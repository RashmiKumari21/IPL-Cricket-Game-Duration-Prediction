{
 "cells": [
  {
   "cell_type": "code",
   "execution_count": 1,
   "metadata": {},
   "outputs": [],
   "source": [
    "import numpy as np\n",
    "import pandas as pd\n",
    "from pandas import DataFrame\n",
    "import matplotlib.pyplot as plt\n",
    "from scipy.stats import norm, entropy \n",
    "from scipy.stats import probplot\n",
    "import matplotlib.pyplot as plt\n",
    "from scipy.stats import logistic\n",
    "from sklearn.model_selection import train_test_split\n",
    "from sklearn.linear_model import LogisticRegression\n",
    "from sklearn import metrics\n",
    "from sklearn.utils import resample\n",
    "from sklearn import svm\n",
    "from sklearn.metrics import classification_report, confusion_matrix, roc_curve\n",
    "from sklearn.preprocessing import Imputer\n",
    "\n",
    "from pyspark.ml.recommendation import ALS\n",
    "from pyspark.ml.classification import DecisionTreeClassifier\n",
    "from pyspark.sql.session import SparkSession\n",
    "import math\n",
    "from sklearn import preprocessing"
   ]
  },
  {
   "cell_type": "code",
   "execution_count": 10,
   "metadata": {},
   "outputs": [],
   "source": [
    "column_names=[\"player\",\"balls\"]\n",
    "data_delivery = pd.read_csv('team_avg_balls_played_SVD.csv')"
   ]
  },
  {
   "cell_type": "code",
   "execution_count": 11,
   "metadata": {},
   "outputs": [
    {
     "data": {
      "text/html": [
       "<div>\n",
       "<style scoped>\n",
       "    .dataframe tbody tr th:only-of-type {\n",
       "        vertical-align: middle;\n",
       "    }\n",
       "\n",
       "    .dataframe tbody tr th {\n",
       "        vertical-align: top;\n",
       "    }\n",
       "\n",
       "    .dataframe thead th {\n",
       "        text-align: right;\n",
       "    }\n",
       "</style>\n",
       "<table border=\"1\" class=\"dataframe\">\n",
       "  <thead>\n",
       "    <tr style=\"text-align: right;\">\n",
       "      <th></th>\n",
       "      <th>Batsman</th>\n",
       "      <th>Bowler</th>\n",
       "      <th>balls</th>\n",
       "    </tr>\n",
       "  </thead>\n",
       "  <tbody>\n",
       "    <tr>\n",
       "      <th>0</th>\n",
       "      <td>A Ashish Reddy</td>\n",
       "      <td>A Chandila</td>\n",
       "      <td>4.599722</td>\n",
       "    </tr>\n",
       "    <tr>\n",
       "      <th>1</th>\n",
       "      <td>A Ashish Reddy</td>\n",
       "      <td>R Sathish</td>\n",
       "      <td>6.472763</td>\n",
       "    </tr>\n",
       "    <tr>\n",
       "      <th>2</th>\n",
       "      <td>A Ashish Reddy</td>\n",
       "      <td>R Rampaul</td>\n",
       "      <td>4.833072</td>\n",
       "    </tr>\n",
       "    <tr>\n",
       "      <th>3</th>\n",
       "      <td>A Ashish Reddy</td>\n",
       "      <td>R Parag</td>\n",
       "      <td>7.100956</td>\n",
       "    </tr>\n",
       "    <tr>\n",
       "      <th>4</th>\n",
       "      <td>A Ashish Reddy</td>\n",
       "      <td>R Ninan</td>\n",
       "      <td>6.917495</td>\n",
       "    </tr>\n",
       "  </tbody>\n",
       "</table>\n",
       "</div>"
      ],
      "text/plain": [
       "          Batsman      Bowler     balls\n",
       "0  A Ashish Reddy  A Chandila  4.599722\n",
       "1  A Ashish Reddy   R Sathish  6.472763\n",
       "2  A Ashish Reddy   R Rampaul  4.833072\n",
       "3  A Ashish Reddy     R Parag  7.100956\n",
       "4  A Ashish Reddy     R Ninan  6.917495"
      ]
     },
     "execution_count": 11,
     "metadata": {},
     "output_type": "execute_result"
    }
   ],
   "source": [
    "data_delivery.head()"
   ]
  },
  {
   "cell_type": "code",
   "execution_count": 24,
   "metadata": {},
   "outputs": [
    {
     "data": {
      "text/html": [
       "<div>\n",
       "<style scoped>\n",
       "    .dataframe tbody tr th:only-of-type {\n",
       "        vertical-align: middle;\n",
       "    }\n",
       "\n",
       "    .dataframe tbody tr th {\n",
       "        vertical-align: top;\n",
       "    }\n",
       "\n",
       "    .dataframe thead th {\n",
       "        text-align: right;\n",
       "    }\n",
       "</style>\n",
       "<table border=\"1\" class=\"dataframe\">\n",
       "  <thead>\n",
       "    <tr style=\"text-align: right;\">\n",
       "      <th></th>\n",
       "      <th>Batsman</th>\n",
       "      <th>Bowler</th>\n",
       "      <th>balls</th>\n",
       "    </tr>\n",
       "  </thead>\n",
       "  <tbody>\n",
       "    <tr>\n",
       "      <th>0</th>\n",
       "      <td>A Ashish Reddy</td>\n",
       "      <td>A Chandila</td>\n",
       "      <td>4.599722</td>\n",
       "    </tr>\n",
       "  </tbody>\n",
       "</table>\n",
       "</div>"
      ],
      "text/plain": [
       "          Batsman      Bowler     balls\n",
       "0  A Ashish Reddy  A Chandila  4.599722"
      ]
     },
     "execution_count": 24,
     "metadata": {},
     "output_type": "execute_result"
    }
   ],
   "source": [
    "player1=\"A Ashish Reddy\"\n",
    "player2=\"A Chandila\"\n",
    "\n",
    "rslt_df = data_delivery.loc[(data_delivery['Batsman'] == player1) & (data_delivery['Bowler'] == player2) ]\n",
    "rslt_df\n",
    "\n",
    "# for i,j,k in zip(data_delivery[\"Batsman\"].iteritems(),data_delivery[\"Bowler\"].iteritems(),data_delivery[\"balls\"].iteritems()):\n",
    "#     print(i,j,k)\n",
    "#     if i==player1 and j==player2:\n",
    "#         print(k)\n",
    "   \n",
    "\n",
    "# def fetchDynamicBalls(player1,player2,df):\n",
    "    \n",
    "    "
   ]
  },
  {
   "cell_type": "code",
   "execution_count": 82,
   "metadata": {},
   "outputs": [
    {
     "name": "stdout",
     "output_type": "stream",
     "text": [
      "0\n"
     ]
    }
   ],
   "source": [
    "column_names=[\"player\",\"balls\"]\n",
    "data_delivery = pd.read_csv('team_avg_balls_played_SVD.csv')\n",
    "\n",
    "batsman=\"AB de Villiers\"\n",
    "bowler=\"Jason Behrendorff\"\n",
    "\n",
    "def name(s): \n",
    "  \n",
    "    # split the string into a list  \n",
    "    l = s.split() \n",
    "    new = \"\" \n",
    "  \n",
    "    # traverse in the list  \n",
    "    for i in range(len(l)-1): \n",
    "        s = l[i]   \n",
    "        # adds the capital first character  \n",
    "        new += (s[0].upper())       \n",
    "    # l[-1] gives last item of list l. We \n",
    "    # use title to print first character in \n",
    "    # capital. \n",
    "    new += l[-1].title()   \n",
    "    return new \n",
    "\n",
    "batsman=name(batsman)\n",
    "bowler=name(bowler)\n",
    "\n",
    "    \n",
    "\n",
    "rslt_df = data_delivery.loc[(\n",
    "                                (data_delivery['Batsman'].map(lambda x: name(x) == batsman)) | \n",
    "                                (data_delivery['Batsman'].map(lambda x: (x) == batsman))\n",
    "                            ) \n",
    "                            & (\n",
    "                                (data_delivery['Bowler'].map(lambda x: name(x) == bowler)) |\n",
    "                                (data_delivery['Bowler'].map(lambda x: (x) == bowler))\n",
    "                            )]\n",
    "\n",
    "if(rslt_df.empty or rslt_df[\"balls\"].isnull):\n",
    "    print(0)\n",
    "else:\n",
    "    print(rslt_df[\"balls\"].item())\n",
    "\n",
    "\n",
    " \n"
   ]
  },
  {
   "cell_type": "code",
   "execution_count": 98,
   "metadata": {},
   "outputs": [
    {
     "data": {
      "text/html": [
       "<div>\n",
       "<style scoped>\n",
       "    .dataframe tbody tr th:only-of-type {\n",
       "        vertical-align: middle;\n",
       "    }\n",
       "\n",
       "    .dataframe tbody tr th {\n",
       "        vertical-align: top;\n",
       "    }\n",
       "\n",
       "    .dataframe thead th {\n",
       "        text-align: right;\n",
       "    }\n",
       "</style>\n",
       "<table border=\"1\" class=\"dataframe\">\n",
       "  <thead>\n",
       "    <tr style=\"text-align: right;\">\n",
       "      <th></th>\n",
       "      <th>Unnamed: 0</th>\n",
       "      <th>Team1</th>\n",
       "      <th>Team2</th>\n",
       "      <th>Total_Balls</th>\n",
       "      <th>Predicted</th>\n",
       "    </tr>\n",
       "  </thead>\n",
       "  <tbody>\n",
       "    <tr>\n",
       "      <th>0</th>\n",
       "      <td>9</td>\n",
       "      <td>Kolkata Knight Riders</td>\n",
       "      <td>Mumbai Indians</td>\n",
       "      <td>246</td>\n",
       "      <td>242.809233</td>\n",
       "    </tr>\n",
       "    <tr>\n",
       "      <th>1</th>\n",
       "      <td>15</td>\n",
       "      <td>Mumbai Indians</td>\n",
       "      <td>Chennai Super Kings</td>\n",
       "      <td>247</td>\n",
       "      <td>243.358754</td>\n",
       "    </tr>\n",
       "  </tbody>\n",
       "</table>\n",
       "</div>"
      ],
      "text/plain": [
       "   Unnamed: 0                  Team1                Team2  Total_Balls  \\\n",
       "0           9  Kolkata Knight Riders       Mumbai Indians          246   \n",
       "1          15         Mumbai Indians  Chennai Super Kings          247   \n",
       "\n",
       "    Predicted  \n",
       "0  242.809233  \n",
       "1  243.358754  "
      ]
     },
     "execution_count": 98,
     "metadata": {},
     "output_type": "execute_result"
    }
   ],
   "source": [
    "data_delivery = pd.read_csv('team_based_analysis.csv')\n",
    "\n",
    "team1=\"Mumbai Indians\"\n",
    "team2=\"Chennai Super Kings\"\n",
    "data_delivery.head()\n",
    "\n"
   ]
  },
  {
   "cell_type": "code",
   "execution_count": 100,
   "metadata": {},
   "outputs": [
    {
     "name": "stdout",
     "output_type": "stream",
     "text": [
      "247\n",
      "243.3587539\n"
     ]
    }
   ],
   "source": [
    "rslt_df = data_delivery.loc[(\n",
    "                                (data_delivery['Team1'].map(lambda x: (x)==team1))\n",
    "                            ) \n",
    "                            & (\n",
    "                                (data_delivery['Team2'].map(lambda x: (x)==team2))\n",
    "                            )]\n",
    "\n",
    "# rslt_df\n",
    "if(rslt_df.empty):\n",
    "    print('0')\n",
    "else:\n",
    "    print(str(rslt_df[\"Total_Balls\"].item()))\n",
    "    print(str(rslt_df[\"Predicted\"].item()))"
   ]
  },
  {
   "cell_type": "code",
   "execution_count": 120,
   "metadata": {},
   "outputs": [
    {
     "data": {
      "text/html": [
       "<div>\n",
       "<style scoped>\n",
       "    .dataframe tbody tr th:only-of-type {\n",
       "        vertical-align: middle;\n",
       "    }\n",
       "\n",
       "    .dataframe tbody tr th {\n",
       "        vertical-align: top;\n",
       "    }\n",
       "\n",
       "    .dataframe thead th {\n",
       "        text-align: right;\n",
       "    }\n",
       "</style>\n",
       "<table border=\"1\" class=\"dataframe\">\n",
       "  <thead>\n",
       "    <tr style=\"text-align: right;\">\n",
       "      <th></th>\n",
       "      <th>Team1</th>\n",
       "      <th>Team2</th>\n",
       "      <th>inning_1</th>\n",
       "      <th>inning_2</th>\n",
       "    </tr>\n",
       "  </thead>\n",
       "  <tbody>\n",
       "    <tr>\n",
       "      <th>0</th>\n",
       "      <td>Kings XI Punjab</td>\n",
       "      <td>Chennai Super Kings</td>\n",
       "      <td>125</td>\n",
       "      <td>126</td>\n",
       "    </tr>\n",
       "    <tr>\n",
       "      <th>1</th>\n",
       "      <td>Royal Challengers Bangalore</td>\n",
       "      <td>Chennai Super Kings</td>\n",
       "      <td>102</td>\n",
       "      <td>122</td>\n",
       "    </tr>\n",
       "    <tr>\n",
       "      <th>2</th>\n",
       "      <td>Sunrisers Hyderabad</td>\n",
       "      <td>Chennai Super Kings</td>\n",
       "      <td>114</td>\n",
       "      <td>122</td>\n",
       "    </tr>\n",
       "    <tr>\n",
       "      <th>3</th>\n",
       "      <td>Chennai Super Kings</td>\n",
       "      <td>Deccan Chargers</td>\n",
       "      <td>121</td>\n",
       "      <td>121</td>\n",
       "    </tr>\n",
       "    <tr>\n",
       "      <th>4</th>\n",
       "      <td>Pune Warriors</td>\n",
       "      <td>Chennai Super Kings</td>\n",
       "      <td>122</td>\n",
       "      <td>122</td>\n",
       "    </tr>\n",
       "  </tbody>\n",
       "</table>\n",
       "</div>"
      ],
      "text/plain": [
       "                         Team1                Team2  inning_1  inning_2\n",
       "0              Kings XI Punjab  Chennai Super Kings       125       126\n",
       "1  Royal Challengers Bangalore  Chennai Super Kings       102       122\n",
       "2          Sunrisers Hyderabad  Chennai Super Kings       114       122\n",
       "3          Chennai Super Kings      Deccan Chargers       121       121\n",
       "4                Pune Warriors  Chennai Super Kings       122       122"
      ]
     },
     "execution_count": 120,
     "metadata": {},
     "output_type": "execute_result"
    }
   ],
   "source": [
    "data_delivery = pd.read_csv('get_bowler_based_analysis.csv')\n",
    "\n",
    "team1=\"Kings XI Punjab\"\n",
    "team2=\"Chennai Super Kings\"\n",
    "data_delivery.head()"
   ]
  },
  {
   "cell_type": "code",
   "execution_count": 121,
   "metadata": {},
   "outputs": [
    {
     "name": "stdout",
     "output_type": "stream",
     "text": [
      "125\n",
      "126\n"
     ]
    }
   ],
   "source": [
    "rslt_df = data_delivery.loc[(\n",
    "                                (data_delivery['Team1'].map(lambda x: (x)==team1))\n",
    "                            ) \n",
    "                            & (\n",
    "                                (data_delivery['Team2'].map(lambda x: (x)==team2))\n",
    "                            )]\n",
    "\n",
    "# rslt_df\n",
    "if(rslt_df.empty):\n",
    "    print('0')\n",
    "else:\n",
    "    print(str(rslt_df[\"inning_1\"].item()))\n",
    "    print(str(rslt_df[\"inning_2\"].item()))"
   ]
  },
  {
   "cell_type": "code",
   "execution_count": null,
   "metadata": {},
   "outputs": [],
   "source": []
  }
 ],
 "metadata": {
  "kernelspec": {
   "display_name": "Python 2",
   "language": "python",
   "name": "python2"
  },
  "language_info": {
   "codemirror_mode": {
    "name": "ipython",
    "version": 2
   },
   "file_extension": ".py",
   "mimetype": "text/x-python",
   "name": "python",
   "nbconvert_exporter": "python",
   "pygments_lexer": "ipython2",
   "version": "2.7.17"
  }
 },
 "nbformat": 4,
 "nbformat_minor": 2
}
